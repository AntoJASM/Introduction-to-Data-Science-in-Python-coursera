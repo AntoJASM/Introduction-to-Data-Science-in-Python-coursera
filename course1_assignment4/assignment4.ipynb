{
 "cells": [
  {
   "cell_type": "markdown",
   "metadata": {
    "deletable": false,
    "editable": false,
    "etc_identifier": "653a3605-5bda-4e1f-beef-04a0173d3f41",
    "nbgrader": {
     "cell_type": "markdown",
     "checksum": "60da2e57814a61cf6a81dd670bf35473",
     "grade": false,
     "grade_id": "cell-a6c4f74309fc2379",
     "locked": true,
     "schema_version": 3,
     "solution": false
    }
   },
   "source": [
    "# Assignment 4\n",
    "## Description\n",
    "In this assignment you must read in a file of metropolitan regions and associated sports teams from [assets/wikipedia_data.html](assets/wikipedia_data.html) and answer some questions about each metropolitan region. Each of these regions may have one or more teams from the \"Big 4\": NFL (football, in [assets/nfl.csv](assets/nfl.csv)), MLB (baseball, in [assets/mlb.csv](assets/mlb.csv)), NBA (basketball, in [assets/nba.csv](assets/nba.csv) or NHL (hockey, in [assets/nhl.csv](assets/nhl.csv)). Please keep in mind that all questions are from the perspective of the metropolitan region, and that this file is the \"source of authority\" for the location of a given sports team. Thus teams which are commonly known by a different area (e.g. \"Oakland Raiders\") need to be mapped into the metropolitan region given (e.g. San Francisco Bay Area). This will require some human data understanding outside of the data you've been given (e.g. you will have to hand-code some names, and might need to google to find out where teams are)!\n",
    "\n",
    "For each sport I would like you to answer the question: **what is the win/loss ratio's correlation with the population of the city it is in?** Win/Loss ratio refers to the number of wins over the number of wins plus the number of losses. Remember that to calculate the correlation with [`pearsonr`](https://docs.scipy.org/doc/scipy/reference/generated/scipy.stats.pearsonr.html), so you are going to send in two ordered lists of values, the populations from the wikipedia_data.html file and the win/loss ratio for a given sport in the same order. Average the win/loss ratios for those cities which have multiple teams of a single sport. Each sport is worth an equal amount in this assignment (20%\\*4=80%) of the grade for this assignment. You should only use data **from year 2018** for your analysis -- this is important!\n",
    "\n",
    "## Notes\n",
    "\n",
    "1. Do not include data about the MLS or CFL in any of the work you are doing, we're only interested in the Big 4 in this assignment.\n",
    "2. I highly suggest that you first tackle the four correlation questions in order, as they are all similar and worth the majority of grades for this assignment. This is by design!\n",
    "3. It's fair game to talk with peers about high level strategy as well as the relationship between metropolitan areas and sports teams. However, do not post code solving aspects of the assignment (including such as dictionaries mapping areas to teams, or regexes which will clean up names).\n",
    "4. There may be more teams than the assert statements test, remember to collapse multiple teams in one city into a single value!\n",
    "\n",
    "As this assignment utilizes global variables in the skeleton code, to avoid having errors in your code you can either:\n",
    "\n",
    "1. You can place all of your code within the function definitions for all of the questions (other than import statements).\n",
    "2. You can create copies of all the global variables with the copy() method and proceed as usual."
   ]
  },
  {
   "cell_type": "markdown",
   "metadata": {
    "deletable": false,
    "editable": false,
    "nbgrader": {
     "cell_type": "markdown",
     "checksum": "369ff9ecf0ee04640574205cbc697f94",
     "grade": false,
     "grade_id": "cell-712b2b5da63d4505",
     "locked": true,
     "schema_version": 3,
     "solution": false
    }
   },
   "source": [
    "## Question 1\n",
    "For this question, calculate the win/loss ratio's correlation with the population of the city it is in for the **NHL** using **2018** data."
   ]
  },
  {
   "cell_type": "code",
   "execution_count": 2,
   "metadata": {
    "deletable": false,
    "nbgrader": {
     "cell_type": "code",
     "checksum": "1cac4803b02502929f5b1612d48db2b5",
     "grade": false,
     "grade_id": "cell-69b16e4386e58030",
     "locked": false,
     "schema_version": 3,
     "solution": true
    }
   },
   "outputs": [],
   "source": [
    "import pandas as pd\n",
    "import numpy as np\n",
    "import scipy.stats as stats\n",
    "import re\n",
    "\n",
    "nhl_df=pd.read_csv(\"assets/nhl.csv\")\n",
    "cities=pd.read_html(\"assets/wikipedia_data.html\")[1]\n",
    "cities=cities.iloc[:-1,[0,3,5,6,7,8]]\n",
    "def nhl_cleaner(nhl_df, cities):\n",
    "    teams_by_ma=cities[[\"Metropolitan area\" ,\"Population (2016 est.)[8]\",\"NHL\"]]\n",
    "    teams_by_ma.loc[:, \"NHL\"] = teams_by_ma[\"NHL\"].replace(r\"\\[.*\\]$\",\"\",regex=True)\n",
    "    nhl_teams_data=nhl_df[nhl_df[\"year\"]==2018]\n",
    "    nhl_teams_data.loc[:, \"team\"] = nhl_teams_data[\"team\"].replace(r\"\\*$\", \"\", regex=True)\n",
    "    nhl_teams_data=nhl_teams_data[nhl_teams_data[\"GP\"].str.match(r\"^[0-9]+$\")]\n",
    "    teams_by_ma = teams_by_ma.dropna(subset=[\"NHL\"])  \n",
    "    teams_by_ma = teams_by_ma[~teams_by_ma[\"NHL\"].str.contains(\"—\")]\n",
    "    teams_by_ma = teams_by_ma[teams_by_ma[\"NHL\"].str.strip() != \"\"]\n",
    "     \n",
    "\n",
    "    def name_matcher(nhl_teams,teams_ma=teams_by_ma):\n",
    "        for index, row in teams_ma.iterrows():\n",
    "            if re.search(row[\"NHL\"],nhl_teams):\n",
    "                return row[\"NHL\"]\n",
    "            else: \n",
    "                teams=row[\"NHL\"].split()\n",
    "                for team in teams:\n",
    "                    if re.search(team,nhl_teams):\n",
    "                        return team\n",
    "        return None\n",
    "\n",
    "    nhl_teams_data[\"ma_name\"]=nhl_teams_data[\"team\"].apply(name_matcher)\n",
    "\n",
    "    def area_population_matcher(team_name,population_data=teams_by_ma):\n",
    "        for index, row in population_data.iterrows():\n",
    "            if re.search(team_name, row[\"NHL\"],re.IGNORECASE):\n",
    "                return pd.Series({\n",
    "                    \"pop\": row[\"Population (2016 est.)[8]\"],\n",
    "                    \"area\": row[\"Metropolitan area\"]\n",
    "                })\n",
    "\n",
    "    nhl_teams_data[[\"Population (2016 est.)[8]\", \"Metropolitan area\"]] = nhl_teams_data[\"ma_name\"].apply(area_population_matcher)      \n",
    "    nhl_teams_data['W'] = pd.to_numeric(nhl_teams_data['W'], errors='coerce')\n",
    "    nhl_teams_data['L'] = pd.to_numeric(nhl_teams_data['L'], errors='coerce')\n",
    "    nhl_teams_data[\"win_loss_ratio\"]= nhl_teams_data['W'] / (nhl_teams_data['L']+nhl_teams_data['W'])\n",
    "    nhl_win_loss_by_region=nhl_teams_data.groupby('Metropolitan area').agg(\n",
    "        win_loss_ratio=('win_loss_ratio', 'mean'),\n",
    "        population=(\"Population (2016 est.)[8]\", 'first')\n",
    "    )\n",
    "    return nhl_teams_data, nhl_win_loss_by_region\n",
    "\n",
    "\n",
    "def nhl_correlation(): \n",
    "    # YOUR CODE HERE\n",
    "    nhl_teams_data, nhl_win_loss_by_region=nhl_cleaner(nhl_df,cities)\n",
    "    \n",
    "    population_by_region = nhl_win_loss_by_region[\"population\"].astype(float).values.tolist() # pass in metropolitan area population from cities\n",
    "    win_loss_by_region = nhl_win_loss_by_region['win_loss_ratio'].astype(float).values.tolist() # pass in win/loss ratio from nhl_df in the same order as cities[\"Metropolitan area\"]\n",
    "\n",
    "    assert len(population_by_region) == len(win_loss_by_region), \"Q1: Your lists must be the same length\"\n",
    "    assert len(population_by_region) == 28, \"Q1: There should be 28 teams being analysed for NHL\"\n",
    "    \n",
    "    return stats.pearsonr(population_by_region, win_loss_by_region)[0]\n",
    "    raise NotImplementedError()"
   ]
  },
  {
   "cell_type": "code",
   "execution_count": 3,
   "metadata": {
    "deletable": false,
    "editable": false,
    "nbgrader": {
     "cell_type": "code",
     "checksum": "52a581df513c71153e105b93764cda4b",
     "grade": true,
     "grade_id": "cell-ebe0b2dfe1067e63",
     "locked": true,
     "points": 20,
     "schema_version": 3,
     "solution": false
    }
   },
   "outputs": [
    {
     "data": {
      "text/plain": [
       "np.float64(0.012486162921209902)"
      ]
     },
     "execution_count": 3,
     "metadata": {},
     "output_type": "execute_result"
    }
   ],
   "source": [
    "nhl_correlation()"
   ]
  },
  {
   "cell_type": "markdown",
   "metadata": {
    "deletable": false,
    "editable": false,
    "nbgrader": {
     "cell_type": "markdown",
     "checksum": "988912cae4968d81473f46d783e79c16",
     "grade": false,
     "grade_id": "cell-cb964e690298b71d",
     "locked": true,
     "schema_version": 3,
     "solution": false
    }
   },
   "source": [
    "## Question 2\n",
    "For this question, calculate the win/loss ratio's correlation with the population of the city it is in for the **NBA** using **2018** data."
   ]
  },
  {
   "cell_type": "code",
   "execution_count": 4,
   "metadata": {
    "deletable": false,
    "nbgrader": {
     "cell_type": "code",
     "checksum": "9394222aafc8ccab0a228098ba0d6010",
     "grade": false,
     "grade_id": "cell-5a5f21279e3d3572",
     "locked": false,
     "schema_version": 3,
     "solution": true
    }
   },
   "outputs": [],
   "source": [
    "import pandas as pd\n",
    "import numpy as np\n",
    "import scipy.stats as stats\n",
    "import re\n",
    "\n",
    "nba_df=pd.read_csv(\"assets/nba.csv\")\n",
    "cities=pd.read_html(\"assets/wikipedia_data.html\")[1]\n",
    "cities=cities.iloc[:-1,[0,3,5,6,7,8]]\n",
    "\n",
    "def nba_cleaner(nba_df, cities):\n",
    "    nba_teams_by_region=cities[[\"Metropolitan area\" ,\"Population (2016 est.)[8]\",\"NBA\"]]\n",
    "    nba_teams_by_region.loc[:, \"NBA\"] = nba_teams_by_region[\"NBA\"].replace(r\"\\[.*\\]$\",\"\",regex=True)\n",
    "    nba_teams_data=nba_df[nba_df[\"year\"]==2018]\n",
    "    nba_teams_data.loc[:, \"team\"] = nba_teams_data[\"team\"].replace(r\"\\**\\s*\\([0-9]*\\)$\", \"\", regex=True)\n",
    "    nba_teams_data=nba_teams_data[nba_teams_data[\"W\"].str.match(r\"^[0-9]+$\")]\n",
    "    nba_teams_by_region = nba_teams_by_region.dropna(subset=[\"NBA\"])  \n",
    "    nba_teams_by_region = nba_teams_by_region[~nba_teams_by_region[\"NBA\"].str.contains(\"—\")]\n",
    "    nba_teams_by_region = nba_teams_by_region[nba_teams_by_region[\"NBA\"].str.strip() != \"\"]\n",
    "    \n",
    "    def name_matcher(nba_teams,teams_ma=nba_teams_by_region):\n",
    "        for index, row in teams_ma.iterrows():\n",
    "            if re.search(row[\"NBA\"],nba_teams):\n",
    "                return row[\"NBA\"]\n",
    "            else: \n",
    "                teams=row[\"NBA\"].split()\n",
    "                for team in teams:\n",
    "                    if re.search(team,nba_teams):\n",
    "                        return team\n",
    "        return None\n",
    "\n",
    "    nba_teams_data[\"ma_name\"]=nba_teams_data[\"team\"].apply(name_matcher)\n",
    "\n",
    "    def area_population_matcher(team_name, population_data=nba_teams_by_region):\n",
    "        for index, row in population_data.iterrows():\n",
    "            if re.search(team_name, row[\"NBA\"],re.IGNORECASE):\n",
    "                return pd.Series({\n",
    "                    \"pop\": row[\"Population (2016 est.)[8]\"],\n",
    "                    \"area\": row[\"Metropolitan area\"]\n",
    "                })\n",
    "    nba_teams_data[[\"Population (2016 est.)[8]\", \"Metropolitan area\"]] = nba_teams_data[\"ma_name\"].apply(area_population_matcher)      \n",
    "    nba_teams_data['W'] = pd.to_numeric(nba_teams_data['W'], errors='coerce')\n",
    "    nba_teams_data['L'] = pd.to_numeric(nba_teams_data['L'], errors='coerce')\n",
    "    nba_teams_data[\"win_loss_ratio\"]= nba_teams_data['W'] / (nba_teams_data['L']+nba_teams_data['W'] )\n",
    "    nba_win_loss_by_region=nba_teams_data.groupby('Metropolitan area').agg(\n",
    "        win_loss_ratio=('win_loss_ratio', 'mean'),\n",
    "        population=(\"Population (2016 est.)[8]\", 'first')\n",
    "    )\n",
    "    return nba_teams_data, nba_win_loss_by_region\n",
    "\n",
    "def nba_correlation():\n",
    "    # YOUR CODE HERE\n",
    "    nba_teams_data, nba_win_loss_by_region= nba_cleaner(nba_df,cities)\n",
    "    \n",
    "    population_by_region = nba_win_loss_by_region[\"population\"].astype(float).values.tolist() # pass in metropolitan area population from cities\n",
    "    win_loss_by_region = nba_win_loss_by_region[\"win_loss_ratio\"].astype(float).values.tolist() # pass in win/loss ratio from nba_df in the same order as cities[\"Metropolitan area\"]\n",
    "\n",
    "    assert len(population_by_region) == len(win_loss_by_region), \"Q2: Your lists must be the same length\"\n",
    "    assert len(population_by_region) == 28, \"Q2: There should be 28 teams being analysed for NBA\"\n",
    "\n",
    "    return stats.pearsonr(population_by_region, win_loss_by_region)[0]"
   ]
  },
  {
   "cell_type": "code",
   "execution_count": 5,
   "metadata": {
    "deletable": false,
    "editable": false,
    "nbgrader": {
     "cell_type": "code",
     "checksum": "bbdeb8eb22f525a34c10dc8798324e42",
     "grade": true,
     "grade_id": "cell-e573b2b4a282b470",
     "locked": true,
     "points": 20,
     "schema_version": 3,
     "solution": false
    }
   },
   "outputs": [
    {
     "data": {
      "text/plain": [
       "np.float64(-0.17657160252844617)"
      ]
     },
     "execution_count": 5,
     "metadata": {},
     "output_type": "execute_result"
    }
   ],
   "source": [
    "nba_correlation()"
   ]
  },
  {
   "cell_type": "markdown",
   "metadata": {
    "deletable": false,
    "editable": false,
    "nbgrader": {
     "cell_type": "markdown",
     "checksum": "1a1a5809f675ca033086422007cd73bd",
     "grade": false,
     "grade_id": "cell-96e15e4335df78f4",
     "locked": true,
     "schema_version": 3,
     "solution": false
    }
   },
   "source": [
    "## Question 3\n",
    "For this question, calculate the win/loss ratio's correlation with the population of the city it is in for the **MLB** using **2018** data."
   ]
  },
  {
   "cell_type": "code",
   "execution_count": 12,
   "metadata": {
    "deletable": false,
    "nbgrader": {
     "cell_type": "code",
     "checksum": "27e8c0da6c9fa0dffc10488314335b6c",
     "grade": false,
     "grade_id": "cell-33b00fc3f3467b0c",
     "locked": false,
     "schema_version": 3,
     "solution": true
    }
   },
   "outputs": [],
   "source": [
    "import pandas as pd\n",
    "import numpy as np\n",
    "import scipy.stats as stats\n",
    "import re\n",
    "\n",
    "mlb_df=pd.read_csv(\"assets/mlb.csv\")\n",
    "cities=pd.read_html(\"assets/wikipedia_data.html\")[1]\n",
    "cities=cities.iloc[:-1,[0,3,5,6,7,8]]\n",
    "\n",
    "def mlb_cleaner(mlb_df, cities):\n",
    "    mlb_teams_by_region=cities[[\"Metropolitan area\" ,\"Population (2016 est.)[8]\",\"MLB\"]]\n",
    "    mlb_teams_by_region.loc[:, \"MLB\"] = mlb_teams_by_region[\"MLB\"].replace(r\"\\[.*\\]$\",\"\",regex=True)\n",
    "    mlb_teams_data=mlb_df[mlb_df[\"year\"]==2018].copy()\n",
    "    mlb_teams_by_region = mlb_teams_by_region.dropna(subset=[\"MLB\"])  \n",
    "    mlb_teams_by_region = mlb_teams_by_region[~mlb_teams_by_region[\"MLB\"].str.contains(\"—\")]\n",
    "    mlb_teams_by_region = mlb_teams_by_region[mlb_teams_by_region[\"MLB\"].str.strip() != \"\"]\n",
    "\n",
    "\n",
    "\n",
    "    def name_matcher(mlb_teams,teams_ma=mlb_teams_by_region):\n",
    "        for index, row in teams_ma.iterrows():\n",
    "            if re.search(row[\"MLB\"],mlb_teams):\n",
    "                return row[\"MLB\"]\n",
    "        \n",
    "        matching_name=None\n",
    "        for index, row in teams_ma.iterrows():\n",
    "            teams_split = row[\"MLB\"].split()\n",
    "            matches=0\n",
    "            for word in teams_split:\n",
    "                if any(word == team_name_word for team_name_word in mlb_teams.split()):\n",
    "                    matches+=1\n",
    "                    if matches>1:\n",
    "                        return matching_name + \" \" + word\n",
    "                    else:\n",
    "                        matching_name = word\n",
    "        return matching_name\n",
    "\n",
    "    mlb_teams_data[\"ma_name\"]=mlb_teams_data[\"team\"].apply(name_matcher)\n",
    "    def area_population_matcher(team_name, population_data=mlb_teams_by_region):\n",
    "        for index, row in population_data.iterrows():\n",
    "            if re.search(team_name, row[\"MLB\"],re.IGNORECASE):\n",
    "                return pd.Series({\n",
    "                    \"pop\": row[\"Population (2016 est.)[8]\"],\n",
    "                    \"area\": row[\"Metropolitan area\"]\n",
    "                })\n",
    "    mlb_teams_data[[\"Population (2016 est.)[8]\", \"Metropolitan area\"]] = mlb_teams_data[\"ma_name\"].apply(area_population_matcher)      \n",
    "    mlb_teams_data['W'] = pd.to_numeric(mlb_teams_data['W'], errors='coerce')\n",
    "    mlb_teams_data['L'] = pd.to_numeric(mlb_teams_data['L'], errors='coerce')\n",
    "    mlb_teams_data[\"win_loss_ratio\"]= mlb_teams_data['W'] / (mlb_teams_data['L'] + mlb_teams_data['W'])\n",
    "    mlb_win_loss_by_region=mlb_teams_data.groupby('Metropolitan area').agg(\n",
    "        win_loss_ratio=('win_loss_ratio', 'mean'),\n",
    "        population=(\"Population (2016 est.)[8]\", 'first')\n",
    "    )\n",
    "\n",
    "    return mlb_teams_data, mlb_win_loss_by_region\n",
    "\n",
    "def mlb_correlation(): \n",
    "    # YOUR CODE HERE\n",
    "    mlb_teams_data, mlb_win_loss_by_region= mlb_cleaner(mlb_df,cities)\n",
    "    \n",
    "    population_by_region = mlb_win_loss_by_region[\"population\"].astype(float).tolist()  # pass in metropolitan area population from cities\n",
    "    win_loss_by_region = mlb_win_loss_by_region[\"win_loss_ratio\"].astype(float).tolist() # pass in win/loss ratio from mlb_df in the same order as cities[\"Metropolitan area\"]\n",
    "\n",
    "    assert len(population_by_region) == len(win_loss_by_region), \"Q3: Your lists must be the same length\"\n",
    "    assert len(population_by_region) == 26, \"Q3: There should be 26 teams being analysed for MLB\"\n",
    "\n",
    "    return stats.pearsonr(population_by_region, win_loss_by_region)[0]\n"
   ]
  },
  {
   "cell_type": "code",
   "execution_count": 13,
   "metadata": {
    "deletable": false,
    "editable": false,
    "nbgrader": {
     "cell_type": "code",
     "checksum": "cda33b094ba19ccc37a481e0dd29e0bc",
     "grade": true,
     "grade_id": "cell-764d4476f425c5a2",
     "locked": true,
     "points": 20,
     "schema_version": 3,
     "solution": false
    }
   },
   "outputs": [
    {
     "data": {
      "text/plain": [
       "np.float64(0.15027698302669307)"
      ]
     },
     "execution_count": 13,
     "metadata": {},
     "output_type": "execute_result"
    }
   ],
   "source": [
    "mlb_correlation()"
   ]
  },
  {
   "cell_type": "markdown",
   "metadata": {
    "deletable": false,
    "editable": false,
    "nbgrader": {
     "cell_type": "markdown",
     "checksum": "6977a6da9ed6d8b7a0b7e37bbeda709b",
     "grade": false,
     "grade_id": "cell-793df6c04dfb126e",
     "locked": true,
     "schema_version": 3,
     "solution": false
    }
   },
   "source": [
    "## Question 4\n",
    "For this question, calculate the win/loss ratio's correlation with the population of the city it is in for the **NFL** using **2018** data."
   ]
  },
  {
   "cell_type": "code",
   "execution_count": 14,
   "metadata": {
    "deletable": false,
    "nbgrader": {
     "cell_type": "code",
     "checksum": "c4914ad1e119278ec2bd567c52640b66",
     "grade": false,
     "grade_id": "cell-8ccebc209aeec8d9",
     "locked": false,
     "schema_version": 3,
     "solution": true
    }
   },
   "outputs": [],
   "source": [
    "import pandas as pd\n",
    "import numpy as np\n",
    "import scipy.stats as stats\n",
    "import re\n",
    "\n",
    "nfl_df=pd.read_csv(\"assets/nfl.csv\")\n",
    "cities=pd.read_html(\"assets/wikipedia_data.html\")[1]\n",
    "cities=cities.iloc[:-1,[0,3,5,6,7,8]]\n",
    "\n",
    "def nfl_cleaner(nfl_df, cities):\n",
    "    nfl_teams_by_region=cities[[\"Metropolitan area\" ,\"Population (2016 est.)[8]\",\"NFL\"]]\n",
    "    nfl_teams_by_region.loc[:, \"NFL\"] = nfl_teams_by_region[\"NFL\"].replace(r\"\\[.*\\]$\",\"\",regex=True)\n",
    "    nfl_teams_data=nfl_df[nfl_df[\"year\"]==2018]\n",
    "    nfl_teams_by_region = nfl_teams_by_region.dropna(subset=[\"NFL\"]) \n",
    "    nfl_teams_data.loc[:, \"team\"] = nfl_teams_data[\"team\"].replace(r\"\\*+\", \"\", regex=True)\n",
    "    nfl_teams_data.loc[:, \"team\"] = nfl_teams_data[\"team\"].replace(r\"\\++\", \"\", regex=True)\n",
    "    nfl_teams_data=nfl_teams_data[nfl_teams_data[\"W\"].str.match(r\"^[0-9]+$\")] \n",
    "    nfl_teams_by_region = nfl_teams_by_region[~nfl_teams_by_region[\"NFL\"].str.contains(\"—\")]\n",
    "    nfl_teams_by_region = nfl_teams_by_region[nfl_teams_by_region[\"NFL\"].str.strip() != \"\"]\n",
    "\n",
    "\n",
    "\n",
    "    def name_matcher(nfl_teams,teams_ma=nfl_teams_by_region):\n",
    "        for index, row in teams_ma.iterrows():\n",
    "            if re.search(row[\"NFL\"],nfl_teams):\n",
    "                return row[\"NFL\"]\n",
    "        \n",
    "        matching_name=None\n",
    "        for index, row in teams_ma.iterrows():\n",
    "            teams_split = row[\"NFL\"].split()\n",
    "            matches=0\n",
    "            for word in teams_split:\n",
    "                if any(word == team_name_word for team_name_word in nfl_teams.split()):\n",
    "                    matches+=1\n",
    "                    if matches>1:\n",
    "                        return matching_name + \" \" + word\n",
    "                    else:\n",
    "                        matching_name = word\n",
    "        return matching_name\n",
    "\n",
    "    nfl_teams_data[\"ma_name\"]=nfl_teams_data[\"team\"].apply(name_matcher)\n",
    "    def area_population_matcher(team_name, population_data=nfl_teams_by_region):\n",
    "        for index, row in population_data.iterrows():\n",
    "            if re.search(team_name, row[\"NFL\"],re.IGNORECASE):\n",
    "                return pd.Series({\n",
    "                    \"pop\": row[\"Population (2016 est.)[8]\"],\n",
    "                    \"area\": row[\"Metropolitan area\"]\n",
    "                })\n",
    "    nfl_teams_data[[\"Population (2016 est.)[8]\", \"Metropolitan area\"]] = nfl_teams_data[\"ma_name\"].apply(area_population_matcher)      \n",
    "    nfl_teams_data['W'] = pd.to_numeric(nfl_teams_data['W'], errors='coerce')\n",
    "    nfl_teams_data['L'] = pd.to_numeric(nfl_teams_data['L'], errors='coerce')\n",
    "    nfl_teams_data[\"win_loss_ratio\"]= nfl_teams_data['W'] / (nfl_teams_data['L'] + nfl_teams_data['W'])\n",
    "    nfl_win_loss_by_region=nfl_teams_data.groupby('Metropolitan area').agg(\n",
    "        win_loss_ratio=('win_loss_ratio', 'mean'),\n",
    "        population=(\"Population (2016 est.)[8]\", 'first')\n",
    "    )\n",
    "\n",
    "    return nfl_teams_data, nfl_win_loss_by_region\n",
    "\n",
    "\n",
    "\n",
    "\n",
    "def nfl_correlation(): \n",
    "    # YOUR CODE HERE\n",
    "    \n",
    "    nfl_teams_data, nfl_win_loss_by_region= nfl_cleaner(nfl_df, cities)\n",
    "    population_by_region = nfl_win_loss_by_region[\"population\"].astype(float).tolist() # pass in metropolitan area population from cities\n",
    "    win_loss_by_region = nfl_win_loss_by_region[\"win_loss_ratio\"].astype(float).tolist() # pass in win/loss ratio from nfl_df in the same order as cities[\"Metropolitan area\"]\n",
    "\n",
    "    assert len(population_by_region) == len(win_loss_by_region), \"Q4: Your lists must be the same length\"\n",
    "    assert len(population_by_region) == 29, \"Q4: There should be 29 teams being analysed for NFL\"\n",
    "\n",
    "    return stats.pearsonr(population_by_region, win_loss_by_region)[0]\n",
    "    raise NotImplementedError()\n"
   ]
  },
  {
   "cell_type": "code",
   "execution_count": 15,
   "metadata": {
    "deletable": false,
    "editable": false,
    "nbgrader": {
     "cell_type": "code",
     "checksum": "e9415d6399aa49e3a1a60813afdefa3b",
     "grade": true,
     "grade_id": "cell-de7b148b9554dbda",
     "locked": true,
     "points": 20,
     "schema_version": 3,
     "solution": false
    }
   },
   "outputs": [
    {
     "data": {
      "text/plain": [
       "np.float64(0.004922112149349462)"
      ]
     },
     "execution_count": 15,
     "metadata": {},
     "output_type": "execute_result"
    }
   ],
   "source": [
    "nfl_correlation()"
   ]
  },
  {
   "cell_type": "markdown",
   "metadata": {
    "deletable": false,
    "editable": false,
    "nbgrader": {
     "cell_type": "markdown",
     "checksum": "b02d5cd3273f561e4ae939bb2a41740c",
     "grade": false,
     "grade_id": "cell-97b49d8639e908c4",
     "locked": true,
     "schema_version": 3,
     "solution": false
    }
   },
   "source": [
    "## Question 5\n",
    "In this question I would like you to explore the hypothesis that **given that an area has two sports teams in different sports, those teams will perform the same within their respective sports**. How I would like to see this explored is with a series of paired t-tests (so use [`ttest_rel`](https://docs.scipy.org/doc/scipy/reference/generated/scipy.stats.ttest_rel.html)) between all pairs of sports. Are there any sports where we can reject the null hypothesis? Again, average values where a sport has multiple teams in one region. Remember, you will only be including, for each sport, cities which have teams engaged in that sport, drop others as appropriate. This question is worth 20% of the grade for this assignment."
   ]
  },
  {
   "cell_type": "code",
   "execution_count": 16,
   "metadata": {
    "deletable": false,
    "nbgrader": {
     "cell_type": "code",
     "checksum": "6d78c961eb66f8d8c81f06d33ae8f393",
     "grade": false,
     "grade_id": "cell-92f25f44b8d1179f",
     "locked": false,
     "schema_version": 3,
     "solution": true
    }
   },
   "outputs": [],
   "source": [
    "import pandas as pd\n",
    "import numpy as np\n",
    "import scipy.stats as stats\n",
    "import re\n",
    "\n",
    "mlb_df=pd.read_csv(\"assets/mlb.csv\")\n",
    "nhl_df=pd.read_csv(\"assets/nhl.csv\")\n",
    "nba_df=pd.read_csv(\"assets/nba.csv\")\n",
    "nfl_df=pd.read_csv(\"assets/nfl.csv\")\n",
    "cities=pd.read_html(\"assets/wikipedia_data.html\")[1]\n",
    "cities=cities.iloc[:-1,[0,3,5,6,7,8]]\n",
    "def leagues_cleaner(mlb,nhl,nba,nfl):\n",
    "    mlb_data,mlb_wl_by_region =mlb_cleaner(mlb,cities)\n",
    "    nhl_data,nhl_wl_by_region=nhl_cleaner(nhl,cities)\n",
    "    nba_data,nba_wl_by_region=nba_cleaner(nba,cities)\n",
    "    nfl_data,nfl_wl_by_region=nfl_cleaner(nfl,cities)\n",
    "    leagues={\"MLB\":mlb_wl_by_region,\n",
    "             \"NHL\":nhl_wl_by_region,\n",
    "             \"NBA\":nba_wl_by_region,\n",
    "             \"NFL\":nfl_wl_by_region}\n",
    "    return leagues\n",
    "def sports_team_performance():\n",
    "    # YOUR CODE HERE\n",
    "    # Note: p_values is a full dataframe, so df.loc[\"NFL\",\"NBA\"] should be the same as df.loc[\"NBA\",\"NFL\"] and\n",
    "    # df.loc[\"NFL\",\"NFL\"] should return np.nan\n",
    "    sports = ['NFL', 'NBA', 'NHL', 'MLB']\n",
    "    p_values = pd.DataFrame({k:np.nan for k in sports}, index=sports)\n",
    "    leagues_wl_by_region=leagues_cleaner(mlb=mlb_df,nhl=nhl_df,nba=nba_df,nfl=nfl_df)\n",
    "    for league_1 in leagues_wl_by_region.keys():\n",
    "        league_1_df=leagues_wl_by_region.get(league_1)\n",
    "        for league_2 in leagues_wl_by_region.keys():\n",
    "            if league_1 == league_2:\n",
    "                continue\n",
    "            league_2_df=leagues_wl_by_region.get(league_2)\n",
    "            league_merged=pd.merge(league_1_df,league_2_df,how=\"inner\",on=\"Metropolitan area\")\n",
    "            p_values.loc[league_1,league_2]=stats.ttest_rel(\n",
    "                league_merged[\"win_loss_ratio_x\"], \n",
    "                league_merged[\"win_loss_ratio_y\"])[1]\n",
    "            \n",
    "    \n",
    "    \n",
    "    assert abs(p_values.loc[\"NBA\", \"NHL\"] - 0.02) <= 1e-2, \"The NBA-NHL p-value should be around 0.02\"\n",
    "    assert abs(p_values.loc[\"MLB\", \"NFL\"] - 0.80) <= 1e-2, \"The MLB-NFL p-value should be around 0.80\"\n",
    "    return p_values\n"
   ]
  },
  {
   "cell_type": "code",
   "execution_count": 17,
   "metadata": {
    "deletable": false,
    "editable": false,
    "nbgrader": {
     "cell_type": "code",
     "checksum": "2a596ab421a45cc01168d10e8fbb8f89",
     "grade": true,
     "grade_id": "cell-fb4b9cb5ff4570a6",
     "locked": true,
     "points": 20,
     "schema_version": 3,
     "solution": false
    }
   },
   "outputs": [
    {
     "data": {
      "application/vnd.microsoft.datawrangler.viewer.v0+json": {
       "columns": [
        {
         "name": "index",
         "rawType": "object",
         "type": "string"
        },
        {
         "name": "NFL",
         "rawType": "float64",
         "type": "float"
        },
        {
         "name": "NBA",
         "rawType": "float64",
         "type": "float"
        },
        {
         "name": "NHL",
         "rawType": "float64",
         "type": "float"
        },
        {
         "name": "MLB",
         "rawType": "float64",
         "type": "float"
        }
       ],
       "conversionMethod": "pd.DataFrame",
       "ref": "f98f5a26-d7a3-420c-9739-4eaf4f6b09a2",
       "rows": [
        [
         "NFL",
         null,
         "0.941792047733962",
         "0.030883173359891308",
         "0.8020694859505031"
        ],
        [
         "NBA",
         "0.941792047733962",
         null,
         "0.02229704964343875",
         "0.9505399837191568"
        ],
        [
         "NHL",
         "0.030883173359891308",
         "0.02229704964343875",
         null,
         "0.0007078407880400664"
        ],
        [
         "MLB",
         "0.8020694859505031",
         "0.9505399837191568",
         "0.0007078407880400664",
         null
        ]
       ],
       "shape": {
        "columns": 4,
        "rows": 4
       }
      },
      "text/html": [
       "<div>\n",
       "<style scoped>\n",
       "    .dataframe tbody tr th:only-of-type {\n",
       "        vertical-align: middle;\n",
       "    }\n",
       "\n",
       "    .dataframe tbody tr th {\n",
       "        vertical-align: top;\n",
       "    }\n",
       "\n",
       "    .dataframe thead th {\n",
       "        text-align: right;\n",
       "    }\n",
       "</style>\n",
       "<table border=\"1\" class=\"dataframe\">\n",
       "  <thead>\n",
       "    <tr style=\"text-align: right;\">\n",
       "      <th></th>\n",
       "      <th>NFL</th>\n",
       "      <th>NBA</th>\n",
       "      <th>NHL</th>\n",
       "      <th>MLB</th>\n",
       "    </tr>\n",
       "  </thead>\n",
       "  <tbody>\n",
       "    <tr>\n",
       "      <th>NFL</th>\n",
       "      <td>NaN</td>\n",
       "      <td>0.941792</td>\n",
       "      <td>0.030883</td>\n",
       "      <td>0.802069</td>\n",
       "    </tr>\n",
       "    <tr>\n",
       "      <th>NBA</th>\n",
       "      <td>0.941792</td>\n",
       "      <td>NaN</td>\n",
       "      <td>0.022297</td>\n",
       "      <td>0.950540</td>\n",
       "    </tr>\n",
       "    <tr>\n",
       "      <th>NHL</th>\n",
       "      <td>0.030883</td>\n",
       "      <td>0.022297</td>\n",
       "      <td>NaN</td>\n",
       "      <td>0.000708</td>\n",
       "    </tr>\n",
       "    <tr>\n",
       "      <th>MLB</th>\n",
       "      <td>0.802069</td>\n",
       "      <td>0.950540</td>\n",
       "      <td>0.000708</td>\n",
       "      <td>NaN</td>\n",
       "    </tr>\n",
       "  </tbody>\n",
       "</table>\n",
       "</div>"
      ],
      "text/plain": [
       "          NFL       NBA       NHL       MLB\n",
       "NFL       NaN  0.941792  0.030883  0.802069\n",
       "NBA  0.941792       NaN  0.022297  0.950540\n",
       "NHL  0.030883  0.022297       NaN  0.000708\n",
       "MLB  0.802069  0.950540  0.000708       NaN"
      ]
     },
     "execution_count": 17,
     "metadata": {},
     "output_type": "execute_result"
    }
   ],
   "source": [
    "sports_team_performance()"
   ]
  }
 ],
 "metadata": {
  "kernelspec": {
   "display_name": "coursera",
   "language": "python",
   "name": "python3"
  },
  "language_info": {
   "codemirror_mode": {
    "name": "ipython",
    "version": 3
   },
   "file_extension": ".py",
   "mimetype": "text/x-python",
   "name": "python",
   "nbconvert_exporter": "python",
   "pygments_lexer": "ipython3",
   "version": "3.10.0"
  }
 },
 "nbformat": 4,
 "nbformat_minor": 4
}
